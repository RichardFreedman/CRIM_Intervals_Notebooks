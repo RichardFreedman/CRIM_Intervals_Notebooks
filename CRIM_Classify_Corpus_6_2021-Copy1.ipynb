{
 "cells": [
  {
   "cell_type": "markdown",
   "metadata": {},
   "source": [
    "## Batch Classify a Group of Pieces to ONE output file\n"
   ]
  },
  {
   "cell_type": "code",
   "execution_count": 1,
   "metadata": {},
   "outputs": [
    {
     "name": "stderr",
     "output_type": "stream",
     "text": [
      "music21: Certain music21 functions might need the optional package matplotlib;\n",
      "                  if you run into errors, install it by following the instructions at\n",
      "                  http://mit.edu/music21/doc/installing/installAdditional.html\n"
     ]
    }
   ],
   "source": [
    "# from main_objs import *\n",
    "# from main import *\n",
    "# from crim_intervals import *\n",
    "# from intervals.main_objs import *\n",
    "from intervals.main import *\n",
    "from intervals.main_classify import *\n",
    "from intervals.classifier import *\n",
    "import pandas as pd\n",
    "import ast\n",
    "# import matplotlib\n",
    "from itertools import tee, combinations\n",
    "import numpy as np\n",
    "from fractions import Fraction\n",
    "import re\n",
    "# from tqdm import tqdm\n"
   ]
  },
  {
   "cell_type": "code",
   "execution_count": 2,
   "metadata": {},
   "outputs": [],
   "source": [
    "# Set Basic Parameters\n",
    "\n",
    "parameters = {\"min_exact_matches\" : 2,\n",
    "\"min_close_matches\" : 3,\n",
    "\"close_distance\" : 1,\n",
    "\"vector_size\" : 4,\n",
    "\"increment_size\" : 4,\n",
    "\"forward_gap_limit\" : 40,\n",
    "\"backward_gap_limit\" : 40,\n",
    "\"min_sum_durations\" : 10,\n",
    "\"max_sum_durations\" : 30,\n",
    "\"offset_difference_limit\" : 500,\n",
    "\"duration_type\" : \"real\",\n",
    "\"interval_type\" : \"generic\",\n",
    "\"match_type\" : \"close\"}"
   ]
  },
  {
   "cell_type": "code",
   "execution_count": 3,
   "metadata": {},
   "outputs": [
    {
     "name": "stdout",
     "output_type": "stream",
     "text": [
      "Successfully imported.\n"
     ]
    },
    {
     "ename": "NameError",
     "evalue": "name 'min_close_matches' is not defined",
     "output_type": "error",
     "traceback": [
      "\u001b[0;31m---------------------------------------------------------------------------\u001b[0m",
      "\u001b[0;31mNameError\u001b[0m                                 Traceback (most recent call last)",
      "\u001b[0;32m<ipython-input-3-147492238fc6>\u001b[0m in \u001b[0;36m<module>\u001b[0;34m\u001b[0m\n\u001b[1;32m     18\u001b[0m \u001b[0;34m\u001b[0m\u001b[0m\n\u001b[1;32m     19\u001b[0m \u001b[0;34m\u001b[0m\u001b[0m\n\u001b[0;32m---> 20\u001b[0;31m \u001b[0mbatch_classify\u001b[0m\u001b[0;34m(\u001b[0m\u001b[0mtitles\u001b[0m\u001b[0;34m,\u001b[0m \u001b[0;34m**\u001b[0m\u001b[0mparameters\u001b[0m\u001b[0;34m)\u001b[0m\u001b[0;34m\u001b[0m\u001b[0;34m\u001b[0m\u001b[0m\n\u001b[0m",
      "\u001b[0;32m~/Documents/Python_Projects/CRIM_Intervals_Notebooks/intervals/classifier.py\u001b[0m in \u001b[0;36mbatch_classify\u001b[0;34m(corpus_titles, duration_type, interval_type, match_type, **kwargs)\u001b[0m\n\u001b[1;32m     56\u001b[0m         \u001b[0;32melif\u001b[0m \u001b[0mmatch_type\u001b[0m \u001b[0;34m==\u001b[0m \u001b[0;34m\"close\"\u001b[0m\u001b[0;34m:\u001b[0m\u001b[0;34m\u001b[0m\u001b[0;34m\u001b[0m\u001b[0m\n\u001b[1;32m     57\u001b[0m \u001b[0;34m\u001b[0m\u001b[0m\n\u001b[0;32m---> 58\u001b[0;31m             \u001b[0mclose_matches\u001b[0m \u001b[0;34m=\u001b[0m \u001b[0mfind_close_matches\u001b[0m\u001b[0;34m(\u001b[0m\u001b[0mpatterns\u001b[0m\u001b[0;34m,\u001b[0m \u001b[0mmin_close_matches\u001b[0m\u001b[0;34m,\u001b[0m \u001b[0mclose_distance\u001b[0m\u001b[0;34m)\u001b[0m\u001b[0;34m\u001b[0m\u001b[0;34m\u001b[0m\u001b[0m\n\u001b[0m\u001b[1;32m     59\u001b[0m             \u001b[0moutput_close\u001b[0m \u001b[0;34m=\u001b[0m \u001b[0mexport_pandas\u001b[0m\u001b[0;34m(\u001b[0m\u001b[0mclose_matches\u001b[0m\u001b[0;34m)\u001b[0m\u001b[0;34m\u001b[0m\u001b[0;34m\u001b[0m\u001b[0m\n\u001b[1;32m     60\u001b[0m             \u001b[0moutput_close\u001b[0m\u001b[0;34m[\u001b[0m\u001b[0;34m\"pattern_generating_match\"\u001b[0m\u001b[0;34m]\u001b[0m \u001b[0;34m=\u001b[0m \u001b[0moutput_close\u001b[0m\u001b[0;34m[\u001b[0m\u001b[0;34m\"pattern_generating_match\"\u001b[0m\u001b[0;34m]\u001b[0m\u001b[0;34m.\u001b[0m\u001b[0mapply\u001b[0m\u001b[0;34m(\u001b[0m\u001b[0mtuple\u001b[0m\u001b[0;34m)\u001b[0m\u001b[0;34m\u001b[0m\u001b[0;34m\u001b[0m\u001b[0m\n",
      "\u001b[0;31mNameError\u001b[0m: name 'min_close_matches' is not defined"
     ]
    }
   ],
   "source": [
    "crim = 'https://raw.githubusercontent.com/CRIM-Project/CRIM-online/master/crim/static/mei/MEI_3.0/'\n",
    "\n",
    "titles = ['CRIM_Model_0017.mei', 'CRIM_Mass_0015_1.mei']\n",
    "\n",
    "for title in titles:\n",
    "        path = f\"{crim}{title}\"\n",
    "#         clean_title = re.search(\"[a-zA-Z_\\d]+\", title).group()\n",
    "\n",
    "\n",
    "# titles = ['CRIM_Model_0025.mei', 'CRIM_Mass_0021_1.mei', \n",
    "# 'CRIM_Mass_0021_2.mei', 'CRIM_Mass_0021_3.mei', 'CRIM_Mass_0021_4.mei', 'CRIM_Mass_0021_5.mei']\n",
    "\n",
    "# titles = ['Riquet_Missa_Susanne_1.mei_msg.mei', \n",
    "# 'Riquet_Missa_Susanne_2.mei_msg.mei', \n",
    "# 'Riquet_Missa_Susanne_3.mei_msg.mei', \n",
    "# 'Riquet_Missa_Susanne_4.mei_msg.mei', \n",
    "# 'Riquet_Missa_Susanne_5.mei_msg.mei']\n",
    "\n",
    "\n",
    "batch_classify(titles, **parameters)\n"
   ]
  },
  {
   "cell_type": "code",
   "execution_count": null,
   "metadata": {},
   "outputs": [],
   "source": []
  },
  {
   "cell_type": "code",
   "execution_count": null,
   "metadata": {},
   "outputs": [],
   "source": []
  },
  {
   "cell_type": "code",
   "execution_count": null,
   "metadata": {},
   "outputs": [],
   "source": []
  }
 ],
 "metadata": {
  "kernelspec": {
   "display_name": "Python 3",
   "language": "python",
   "name": "python3"
  },
  "language_info": {
   "codemirror_mode": {
    "name": "ipython",
    "version": 3
   },
   "file_extension": ".py",
   "mimetype": "text/x-python",
   "name": "python",
   "nbconvert_exporter": "python",
   "pygments_lexer": "ipython3",
   "version": "3.9.4"
  }
 },
 "nbformat": 4,
 "nbformat_minor": 4
}
