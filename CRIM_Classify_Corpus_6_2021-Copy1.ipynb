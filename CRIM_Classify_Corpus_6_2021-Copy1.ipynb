{
 "cells": [
  {
   "cell_type": "markdown",
   "metadata": {},
   "source": [
    "## Batch Classify a Group of Pieces to ONE output file\n"
   ]
  },
  {
   "cell_type": "code",
   "execution_count": 4,
   "metadata": {},
   "outputs": [],
   "source": [
    "# from main_objs import *\n",
    "# from main import *\n",
    "# from crim_intervals import *\n",
    "# from intervals.main_objs import *\n",
    "from intervals.main_objs import *\n",
    "from intervals.main_classify import *\n",
    "from intervals.classifier import *\n",
    "import pandas as pd\n",
    "import ast\n",
    "# import matplotlib\n",
    "from itertools import tee, combinations\n",
    "import numpy as np\n",
    "from fractions import Fraction\n",
    "import re\n",
    "# from tqdm import tqdm\n"
   ]
  },
  {
   "cell_type": "code",
   "execution_count": 5,
   "metadata": {},
   "outputs": [],
   "source": [
    "# Set Basic Parameters\n",
    "\n",
    "min_exact_matches = 2\n",
    "min_close_matches = 3\n",
    "close_distance = 1\n",
    "vector_size = 4\n",
    "increment_size = 4\n",
    "forward_gap_limit = 40\n",
    "backward_gap_limit = 40\n",
    "min_sum_durations = 10\n",
    "max_sum_durations = 30\n",
    "offset_difference_limit = 500\n",
    "\n",
    "duration_type = \"real\"\n",
    "interval_type = \"generic\"\n",
    "match_type = \"close\""
   ]
  },
  {
   "cell_type": "code",
   "execution_count": 6,
   "metadata": {},
   "outputs": [
    {
     "ename": "NameError",
     "evalue": "name 'CorpusBase' is not defined",
     "output_type": "error",
     "traceback": [
      "\u001b[0;31m---------------------------------------------------------------------------\u001b[0m",
      "\u001b[0;31mNameError\u001b[0m                                 Traceback (most recent call last)",
      "\u001b[0;32m<ipython-input-6-8542d0212c89>\u001b[0m in \u001b[0;36m<module>\u001b[0;34m\u001b[0m\n\u001b[1;32m     18\u001b[0m \u001b[0;34m\u001b[0m\u001b[0m\n\u001b[1;32m     19\u001b[0m \u001b[0;34m\u001b[0m\u001b[0m\n\u001b[0;32m---> 20\u001b[0;31m \u001b[0mbatch_classify\u001b[0m\u001b[0;34m(\u001b[0m\u001b[0mtitles\u001b[0m\u001b[0;34m)\u001b[0m\u001b[0;34m\u001b[0m\u001b[0;34m\u001b[0m\u001b[0m\n\u001b[0m",
      "\u001b[0;32m~/Documents/Python_Projects/CRIM_Intervals_Notebooks/intervals/classifier.py\u001b[0m in \u001b[0;36mbatch_classify\u001b[0;34m(corpus_titles, duration_type, interval_type, match_type)\u001b[0m\n\u001b[1;32m      9\u001b[0m \u001b[0;31m#         clean_title = re.search(\"[a-zA-Z_\\d]+\", title).group()\u001b[0m\u001b[0;34m\u001b[0m\u001b[0;34m\u001b[0m\u001b[0;34m\u001b[0m\u001b[0m\n\u001b[1;32m     10\u001b[0m \u001b[0;34m\u001b[0m\u001b[0m\n\u001b[0;32m---> 11\u001b[0;31m         \u001b[0mcorpus\u001b[0m \u001b[0;34m=\u001b[0m \u001b[0mCorpusBase\u001b[0m\u001b[0;34m(\u001b[0m\u001b[0;34m[\u001b[0m\u001b[0mpath\u001b[0m\u001b[0;34m]\u001b[0m\u001b[0;34m)\u001b[0m\u001b[0;34m\u001b[0m\u001b[0;34m\u001b[0m\u001b[0m\n\u001b[0m\u001b[1;32m     12\u001b[0m \u001b[0;31m#         corpus = CorpusBase(corpus_titles)\u001b[0m\u001b[0;34m\u001b[0m\u001b[0;34m\u001b[0m\u001b[0;34m\u001b[0m\u001b[0m\n\u001b[1;32m     13\u001b[0m \u001b[0;34m\u001b[0m\u001b[0m\n",
      "\u001b[0;31mNameError\u001b[0m: name 'CorpusBase' is not defined"
     ]
    }
   ],
   "source": [
    "crim = 'https://raw.githubusercontent.com/CRIM-Project/CRIM-online/master/crim/static/mei/MEI_3.0/'\n",
    "\n",
    "titles = ['CRIM_Model_0017.mei', 'CRIM_Mass_0015_1.mei']\n",
    "\n",
    "for title in titles:\n",
    "        path = f\"{crim}{title}\"\n",
    "#         clean_title = re.search(\"[a-zA-Z_\\d]+\", title).group()\n",
    "\n",
    "\n",
    "# titles = ['CRIM_Model_0025.mei', 'CRIM_Mass_0021_1.mei', \n",
    "# 'CRIM_Mass_0021_2.mei', 'CRIM_Mass_0021_3.mei', 'CRIM_Mass_0021_4.mei', 'CRIM_Mass_0021_5.mei']\n",
    "\n",
    "# titles = ['Riquet_Missa_Susanne_1.mei_msg.mei', \n",
    "# 'Riquet_Missa_Susanne_2.mei_msg.mei', \n",
    "# 'Riquet_Missa_Susanne_3.mei_msg.mei', \n",
    "# 'Riquet_Missa_Susanne_4.mei_msg.mei', \n",
    "# 'Riquet_Missa_Susanne_5.mei_msg.mei']\n",
    "\n",
    "\n",
    "batch_classify(titles)\n"
   ]
  },
  {
   "cell_type": "code",
   "execution_count": null,
   "metadata": {},
   "outputs": [],
   "source": []
  },
  {
   "cell_type": "code",
   "execution_count": null,
   "metadata": {},
   "outputs": [],
   "source": []
  },
  {
   "cell_type": "code",
   "execution_count": null,
   "metadata": {},
   "outputs": [],
   "source": []
  }
 ],
 "metadata": {
  "kernelspec": {
   "display_name": "Python 3",
   "language": "python",
   "name": "python3"
  },
  "language_info": {
   "codemirror_mode": {
    "name": "ipython",
    "version": 3
   },
   "file_extension": ".py",
   "mimetype": "text/x-python",
   "name": "python",
   "nbconvert_exporter": "python",
   "pygments_lexer": "ipython3",
   "version": "3.9.4"
  }
 },
 "nbformat": 4,
 "nbformat_minor": 4
}
